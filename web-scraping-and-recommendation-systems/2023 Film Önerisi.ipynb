{
 "cells": [
  {
   "cell_type": "code",
   "execution_count": 1,
   "id": "34f8ea76",
   "metadata": {},
   "outputs": [],
   "source": [
    "import pandas as pd\n",
    "import matplotlib.pyplot as plt\n",
    "pd.set_option('display.max_columns', None)\n",
    "pd.set_option('display.width', 500)\n",
    "pd.set_option('display.expand_frame_repr', False)\n",
    "from sklearn.feature_extraction.text import TfidfVectorizer\n",
    "from sklearn.metrics.pairwise import cosine_similarity\n",
    "eski_filmler = pd.read_csv(\"TMDb_updated.csv\", low_memory=False)  # DtypeWarning kapamak icin\n"
   ]
  },
  {
   "cell_type": "code",
   "execution_count": 2,
   "id": "f1235a78",
   "metadata": {},
   "outputs": [
    {
     "data": {
      "text/html": [
       "<div>\n",
       "<style scoped>\n",
       "    .dataframe tbody tr th:only-of-type {\n",
       "        vertical-align: middle;\n",
       "    }\n",
       "\n",
       "    .dataframe tbody tr th {\n",
       "        vertical-align: top;\n",
       "    }\n",
       "\n",
       "    .dataframe thead th {\n",
       "        text-align: right;\n",
       "    }\n",
       "</style>\n",
       "<table border=\"1\" class=\"dataframe\">\n",
       "  <thead>\n",
       "    <tr style=\"text-align: right;\">\n",
       "      <th></th>\n",
       "      <th>Unnamed: 0</th>\n",
       "      <th>title</th>\n",
       "      <th>overview</th>\n",
       "      <th>original_language</th>\n",
       "      <th>vote_count</th>\n",
       "      <th>vote_average</th>\n",
       "    </tr>\n",
       "  </thead>\n",
       "  <tbody>\n",
       "    <tr>\n",
       "      <th>0</th>\n",
       "      <td>0</td>\n",
       "      <td>Ad Astra</td>\n",
       "      <td>The near future, a time when both hope and har...</td>\n",
       "      <td>en</td>\n",
       "      <td>2853</td>\n",
       "      <td>5.9</td>\n",
       "    </tr>\n",
       "    <tr>\n",
       "      <th>1</th>\n",
       "      <td>1</td>\n",
       "      <td>Bloodshot</td>\n",
       "      <td>After he and his wife are murdered, marine Ray...</td>\n",
       "      <td>en</td>\n",
       "      <td>1349</td>\n",
       "      <td>7.2</td>\n",
       "    </tr>\n",
       "    <tr>\n",
       "      <th>2</th>\n",
       "      <td>2</td>\n",
       "      <td>Bad Boys for Life</td>\n",
       "      <td>Marcus and Mike are forced to confront new thr...</td>\n",
       "      <td>en</td>\n",
       "      <td>2530</td>\n",
       "      <td>7.1</td>\n",
       "    </tr>\n",
       "    <tr>\n",
       "      <th>3</th>\n",
       "      <td>3</td>\n",
       "      <td>Ant-Man</td>\n",
       "      <td>Armed with the astonishing ability to shrink i...</td>\n",
       "      <td>en</td>\n",
       "      <td>13611</td>\n",
       "      <td>7.1</td>\n",
       "    </tr>\n",
       "    <tr>\n",
       "      <th>4</th>\n",
       "      <td>4</td>\n",
       "      <td>Percy Jackson: Sea of Monsters</td>\n",
       "      <td>In their quest to confront the ultimate evil, ...</td>\n",
       "      <td>en</td>\n",
       "      <td>3542</td>\n",
       "      <td>5.9</td>\n",
       "    </tr>\n",
       "  </tbody>\n",
       "</table>\n",
       "</div>"
      ],
      "text/plain": [
       "   Unnamed: 0                           title                                           overview original_language  vote_count  vote_average\n",
       "0           0                        Ad Astra  The near future, a time when both hope and har...                en        2853           5.9\n",
       "1           1                       Bloodshot  After he and his wife are murdered, marine Ray...                en        1349           7.2\n",
       "2           2               Bad Boys for Life  Marcus and Mike are forced to confront new thr...                en        2530           7.1\n",
       "3           3                         Ant-Man  Armed with the astonishing ability to shrink i...                en       13611           7.1\n",
       "4           4  Percy Jackson: Sea of Monsters  In their quest to confront the ultimate evil, ...                en        3542           5.9"
      ]
     },
     "execution_count": 2,
     "metadata": {},
     "output_type": "execute_result"
    }
   ],
   "source": [
    "eski_filmler.head()"
   ]
  },
  {
   "cell_type": "code",
   "execution_count": 3,
   "id": "94e4c419",
   "metadata": {},
   "outputs": [],
   "source": [
    "eski_filmler.drop('Unnamed: 0', axis=1, inplace=True)"
   ]
  },
  {
   "cell_type": "code",
   "execution_count": 4,
   "id": "83783bf0",
   "metadata": {},
   "outputs": [
    {
     "data": {
      "text/plain": [
       "(10000, 5)"
      ]
     },
     "execution_count": 4,
     "metadata": {},
     "output_type": "execute_result"
    }
   ],
   "source": [
    "eski_filmler.shape"
   ]
  },
  {
   "cell_type": "code",
   "execution_count": 5,
   "id": "a4926f09",
   "metadata": {},
   "outputs": [
    {
     "data": {
      "text/plain": [
       "True"
      ]
     },
     "execution_count": 5,
     "metadata": {},
     "output_type": "execute_result"
    }
   ],
   "source": [
    "eski_filmler.isnull().values.any()"
   ]
  },
  {
   "cell_type": "code",
   "execution_count": 6,
   "id": "f31eaa7d",
   "metadata": {},
   "outputs": [
    {
     "data": {
      "text/plain": [
       "title                 0\n",
       "overview             30\n",
       "original_language     0\n",
       "vote_count            0\n",
       "vote_average          0\n",
       "dtype: int64"
      ]
     },
     "execution_count": 6,
     "metadata": {},
     "output_type": "execute_result"
    }
   ],
   "source": [
    "eski_filmler.isnull().sum()"
   ]
  },
  {
   "cell_type": "code",
   "execution_count": 7,
   "id": "6f1bd168",
   "metadata": {},
   "outputs": [
    {
     "data": {
      "text/html": [
       "<div>\n",
       "<style scoped>\n",
       "    .dataframe tbody tr th:only-of-type {\n",
       "        vertical-align: middle;\n",
       "    }\n",
       "\n",
       "    .dataframe tbody tr th {\n",
       "        vertical-align: top;\n",
       "    }\n",
       "\n",
       "    .dataframe thead th {\n",
       "        text-align: right;\n",
       "    }\n",
       "</style>\n",
       "<table border=\"1\" class=\"dataframe\">\n",
       "  <thead>\n",
       "    <tr style=\"text-align: right;\">\n",
       "      <th></th>\n",
       "      <th>title</th>\n",
       "      <th>overview</th>\n",
       "      <th>original_language</th>\n",
       "      <th>vote_count</th>\n",
       "      <th>vote_average</th>\n",
       "    </tr>\n",
       "  </thead>\n",
       "  <tbody>\n",
       "    <tr>\n",
       "      <th>80</th>\n",
       "      <td>Inception</td>\n",
       "      <td>Cobb, a skilled thief who commits corporate es...</td>\n",
       "      <td>en</td>\n",
       "      <td>25148</td>\n",
       "      <td>8.3</td>\n",
       "    </tr>\n",
       "    <tr>\n",
       "      <th>128</th>\n",
       "      <td>Deadpool</td>\n",
       "      <td>Deadpool tells the origin story of former Spec...</td>\n",
       "      <td>en</td>\n",
       "      <td>22225</td>\n",
       "      <td>7.6</td>\n",
       "    </tr>\n",
       "    <tr>\n",
       "      <th>86</th>\n",
       "      <td>The Avengers</td>\n",
       "      <td>When an unexpected enemy emerges and threatens...</td>\n",
       "      <td>en</td>\n",
       "      <td>21893</td>\n",
       "      <td>7.7</td>\n",
       "    </tr>\n",
       "    <tr>\n",
       "      <th>47</th>\n",
       "      <td>Interstellar</td>\n",
       "      <td>Interstellar chronicles the adventures of a gr...</td>\n",
       "      <td>en</td>\n",
       "      <td>21589</td>\n",
       "      <td>8.3</td>\n",
       "    </tr>\n",
       "    <tr>\n",
       "      <th>88</th>\n",
       "      <td>The Dark Knight</td>\n",
       "      <td>Batman raises the stakes in his war on crime. ...</td>\n",
       "      <td>en</td>\n",
       "      <td>21561</td>\n",
       "      <td>8.4</td>\n",
       "    </tr>\n",
       "  </tbody>\n",
       "</table>\n",
       "</div>"
      ],
      "text/plain": [
       "               title                                           overview original_language  vote_count  vote_average\n",
       "80         Inception  Cobb, a skilled thief who commits corporate es...                en       25148           8.3\n",
       "128         Deadpool  Deadpool tells the origin story of former Spec...                en       22225           7.6\n",
       "86      The Avengers  When an unexpected enemy emerges and threatens...                en       21893           7.7\n",
       "47      Interstellar  Interstellar chronicles the adventures of a gr...                en       21589           8.3\n",
       "88   The Dark Knight  Batman raises the stakes in his war on crime. ...                en       21561           8.4"
      ]
     },
     "execution_count": 7,
     "metadata": {},
     "output_type": "execute_result"
    }
   ],
   "source": [
    "eski_filmler=eski_filmler.sort_values(by=['vote_count'], ascending=False)\n",
    "eski_filmler.head()"
   ]
  },
  {
   "cell_type": "code",
   "execution_count": 8,
   "id": "354fb34a",
   "metadata": {},
   "outputs": [],
   "source": [
    "eski_filmler['overview'] = eski_filmler['overview'].fillna('')"
   ]
  },
  {
   "cell_type": "code",
   "execution_count": 9,
   "id": "ef2745c4",
   "metadata": {},
   "outputs": [
    {
     "data": {
      "text/plain": [
       "title                0\n",
       "overview             0\n",
       "original_language    0\n",
       "vote_count           0\n",
       "vote_average         0\n",
       "dtype: int64"
      ]
     },
     "execution_count": 9,
     "metadata": {},
     "output_type": "execute_result"
    }
   ],
   "source": [
    "eski_filmler.isnull().sum()"
   ]
  },
  {
   "cell_type": "code",
   "execution_count": 10,
   "id": "e5c598d9",
   "metadata": {},
   "outputs": [
    {
     "data": {
      "image/png": "[encoded data removed]",
      "text/plain": [
       "<Figure size 800x800 with 1 Axes>"
      ]
     },
     "metadata": {},
     "output_type": "display_data"
    }
   ],
   "source": [
    "# Dil çevirisi\n",
    "language_translation = {\"en\": \"English\", \"fr\": \"French\", \"ja\": \"Japanese\", \"it\": \"Italian\"}\n",
    "\n",
    "# 'original_language' sütununu çevir\n",
    "eski_filmler['language'] = eski_filmler['original_language'].map(language_translation)\n",
    "\n",
    "# Dil çevirisi yapılmış sütuna göre daire grafiği oluştur\n",
    "language_counts = eski_filmler['language'].value_counts()\n",
    "plt.figure(figsize=(8, 8))\n",
    "plt.pie(language_counts, labels=language_counts.index, autopct='%1.1f%%', startangle=140)\n",
    "plt.title('Original Languages Distribution based on Translation')\n",
    "plt.show()"
   ]
  },
  {
   "cell_type": "code",
   "execution_count": 11,
   "id": "9d7d4ab6",
   "metadata": {},
   "outputs": [],
   "source": [
    "\n",
    " filmler_2023= pd.read_excel(\"film_bilgileri .xlsx\")\n"
   ]
  },
  {
   "cell_type": "code",
   "execution_count": 12,
   "id": "f0124ef1",
   "metadata": {},
   "outputs": [
    {
     "data": {
      "text/html": [
       "<div>\n",
       "<style scoped>\n",
       "    .dataframe tbody tr th:only-of-type {\n",
       "        vertical-align: middle;\n",
       "    }\n",
       "\n",
       "    .dataframe tbody tr th {\n",
       "        vertical-align: top;\n",
       "    }\n",
       "\n",
       "    .dataframe thead th {\n",
       "        text-align: right;\n",
       "    }\n",
       "</style>\n",
       "<table border=\"1\" class=\"dataframe\">\n",
       "  <thead>\n",
       "    <tr style=\"text-align: right;\">\n",
       "      <th></th>\n",
       "      <th>Rank</th>\n",
       "      <th>Film Adı</th>\n",
       "      <th>Tür</th>\n",
       "      <th>Açıklama</th>\n",
       "      <th>vote_average</th>\n",
       "    </tr>\n",
       "  </thead>\n",
       "  <tbody>\n",
       "    <tr>\n",
       "      <th>0</th>\n",
       "      <td>1</td>\n",
       "      <td>Spider-Man: Across the Spider-Verse</td>\n",
       "      <td>Animation, Action, Adventure</td>\n",
       "      <td>Miles Morales catapults across the multiverse,...</td>\n",
       "      <td>8.6</td>\n",
       "    </tr>\n",
       "    <tr>\n",
       "      <th>1</th>\n",
       "      <td>2</td>\n",
       "      <td>Poor Things</td>\n",
       "      <td>Comedy, Drama, Romance</td>\n",
       "      <td>The incredible tale about the fantastical evol...</td>\n",
       "      <td>8.5</td>\n",
       "    </tr>\n",
       "    <tr>\n",
       "      <th>2</th>\n",
       "      <td>3</td>\n",
       "      <td>Gojira -1.0</td>\n",
       "      <td>Action, Adventure, Drama</td>\n",
       "      <td>Post war Japan is at its lowest point when a n...</td>\n",
       "      <td>8.4</td>\n",
       "    </tr>\n",
       "    <tr>\n",
       "      <th>3</th>\n",
       "      <td>4</td>\n",
       "      <td>Oppenheimer</td>\n",
       "      <td>Biography, Drama, History</td>\n",
       "      <td>The story of American scientist J. Robert Oppe...</td>\n",
       "      <td>8.4</td>\n",
       "    </tr>\n",
       "    <tr>\n",
       "      <th>4</th>\n",
       "      <td>5</td>\n",
       "      <td>Taylor Swift: The Eras Tour</td>\n",
       "      <td>Documentary, Music</td>\n",
       "      <td>Experience the Eras Tour concert, performed by...</td>\n",
       "      <td>8.2</td>\n",
       "    </tr>\n",
       "  </tbody>\n",
       "</table>\n",
       "</div>"
      ],
      "text/plain": [
       "   Rank                             Film Adı                           Tür                                           Açıklama  vote_average\n",
       "0     1  Spider-Man: Across the Spider-Verse  Animation, Action, Adventure  Miles Morales catapults across the multiverse,...           8.6\n",
       "1     2                          Poor Things        Comedy, Drama, Romance  The incredible tale about the fantastical evol...           8.5\n",
       "2     3                          Gojira -1.0      Action, Adventure, Drama  Post war Japan is at its lowest point when a n...           8.4\n",
       "3     4                          Oppenheimer     Biography, Drama, History  The story of American scientist J. Robert Oppe...           8.4\n",
       "4     5          Taylor Swift: The Eras Tour            Documentary, Music  Experience the Eras Tour concert, performed by...           8.2"
      ]
     },
     "execution_count": 12,
     "metadata": {},
     "output_type": "execute_result"
    }
   ],
   "source": [
    "filmler_2023.head()"
   ]
  },
  {
   "cell_type": "code",
   "execution_count": 13,
   "id": "211558d6",
   "metadata": {},
   "outputs": [],
   "source": [
    "# Yıl değişkenini ekleyelim ve tüm değerleri 2023 öncesi yapalım\n",
    "eski_filmler['Yıl'] = '2023 öncesi'"
   ]
  },
  {
   "cell_type": "code",
   "execution_count": 14,
   "id": "30dd22b3",
   "metadata": {},
   "outputs": [
    {
     "data": {
      "text/html": [
       "<div>\n",
       "<style scoped>\n",
       "    .dataframe tbody tr th:only-of-type {\n",
       "        vertical-align: middle;\n",
       "    }\n",
       "\n",
       "    .dataframe tbody tr th {\n",
       "        vertical-align: top;\n",
       "    }\n",
       "\n",
       "    .dataframe thead th {\n",
       "        text-align: right;\n",
       "    }\n",
       "</style>\n",
       "<table border=\"1\" class=\"dataframe\">\n",
       "  <thead>\n",
       "    <tr style=\"text-align: right;\">\n",
       "      <th></th>\n",
       "      <th>title</th>\n",
       "      <th>overview</th>\n",
       "      <th>original_language</th>\n",
       "      <th>vote_count</th>\n",
       "      <th>vote_average</th>\n",
       "      <th>language</th>\n",
       "      <th>Yıl</th>\n",
       "    </tr>\n",
       "  </thead>\n",
       "  <tbody>\n",
       "    <tr>\n",
       "      <th>80</th>\n",
       "      <td>Inception</td>\n",
       "      <td>Cobb, a skilled thief who commits corporate es...</td>\n",
       "      <td>en</td>\n",
       "      <td>25148</td>\n",
       "      <td>8.3</td>\n",
       "      <td>English</td>\n",
       "      <td>2023 öncesi</td>\n",
       "    </tr>\n",
       "    <tr>\n",
       "      <th>128</th>\n",
       "      <td>Deadpool</td>\n",
       "      <td>Deadpool tells the origin story of former Spec...</td>\n",
       "      <td>en</td>\n",
       "      <td>22225</td>\n",
       "      <td>7.6</td>\n",
       "      <td>English</td>\n",
       "      <td>2023 öncesi</td>\n",
       "    </tr>\n",
       "    <tr>\n",
       "      <th>86</th>\n",
       "      <td>The Avengers</td>\n",
       "      <td>When an unexpected enemy emerges and threatens...</td>\n",
       "      <td>en</td>\n",
       "      <td>21893</td>\n",
       "      <td>7.7</td>\n",
       "      <td>English</td>\n",
       "      <td>2023 öncesi</td>\n",
       "    </tr>\n",
       "    <tr>\n",
       "      <th>47</th>\n",
       "      <td>Interstellar</td>\n",
       "      <td>Interstellar chronicles the adventures of a gr...</td>\n",
       "      <td>en</td>\n",
       "      <td>21589</td>\n",
       "      <td>8.3</td>\n",
       "      <td>English</td>\n",
       "      <td>2023 öncesi</td>\n",
       "    </tr>\n",
       "    <tr>\n",
       "      <th>88</th>\n",
       "      <td>The Dark Knight</td>\n",
       "      <td>Batman raises the stakes in his war on crime. ...</td>\n",
       "      <td>en</td>\n",
       "      <td>21561</td>\n",
       "      <td>8.4</td>\n",
       "      <td>English</td>\n",
       "      <td>2023 öncesi</td>\n",
       "    </tr>\n",
       "  </tbody>\n",
       "</table>\n",
       "</div>"
      ],
      "text/plain": [
       "               title                                           overview original_language  vote_count  vote_average language          Yıl\n",
       "80         Inception  Cobb, a skilled thief who commits corporate es...                en       25148           8.3  English  2023 öncesi\n",
       "128         Deadpool  Deadpool tells the origin story of former Spec...                en       22225           7.6  English  2023 öncesi\n",
       "86      The Avengers  When an unexpected enemy emerges and threatens...                en       21893           7.7  English  2023 öncesi\n",
       "47      Interstellar  Interstellar chronicles the adventures of a gr...                en       21589           8.3  English  2023 öncesi\n",
       "88   The Dark Knight  Batman raises the stakes in his war on crime. ...                en       21561           8.4  English  2023 öncesi"
      ]
     },
     "execution_count": 14,
     "metadata": {},
     "output_type": "execute_result"
    }
   ],
   "source": [
    "eski_filmler.head()"
   ]
  },
  {
   "cell_type": "code",
   "execution_count": 15,
   "id": "ad56451d",
   "metadata": {},
   "outputs": [],
   "source": [
    "filmler_2023['Yıl']='2023'"
   ]
  },
  {
   "cell_type": "code",
   "execution_count": 16,
   "id": "3f6eebc1",
   "metadata": {},
   "outputs": [
    {
     "data": {
      "text/html": [
       "<div>\n",
       "<style scoped>\n",
       "    .dataframe tbody tr th:only-of-type {\n",
       "        vertical-align: middle;\n",
       "    }\n",
       "\n",
       "    .dataframe tbody tr th {\n",
       "        vertical-align: top;\n",
       "    }\n",
       "\n",
       "    .dataframe thead th {\n",
       "        text-align: right;\n",
       "    }\n",
       "</style>\n",
       "<table border=\"1\" class=\"dataframe\">\n",
       "  <thead>\n",
       "    <tr style=\"text-align: right;\">\n",
       "      <th></th>\n",
       "      <th>Rank</th>\n",
       "      <th>Film Adı</th>\n",
       "      <th>Tür</th>\n",
       "      <th>Açıklama</th>\n",
       "      <th>vote_average</th>\n",
       "      <th>Yıl</th>\n",
       "    </tr>\n",
       "  </thead>\n",
       "  <tbody>\n",
       "    <tr>\n",
       "      <th>0</th>\n",
       "      <td>1</td>\n",
       "      <td>Spider-Man: Across the Spider-Verse</td>\n",
       "      <td>Animation, Action, Adventure</td>\n",
       "      <td>Miles Morales catapults across the multiverse,...</td>\n",
       "      <td>8.6</td>\n",
       "      <td>2023</td>\n",
       "    </tr>\n",
       "    <tr>\n",
       "      <th>1</th>\n",
       "      <td>2</td>\n",
       "      <td>Poor Things</td>\n",
       "      <td>Comedy, Drama, Romance</td>\n",
       "      <td>The incredible tale about the fantastical evol...</td>\n",
       "      <td>8.5</td>\n",
       "      <td>2023</td>\n",
       "    </tr>\n",
       "    <tr>\n",
       "      <th>2</th>\n",
       "      <td>3</td>\n",
       "      <td>Gojira -1.0</td>\n",
       "      <td>Action, Adventure, Drama</td>\n",
       "      <td>Post war Japan is at its lowest point when a n...</td>\n",
       "      <td>8.4</td>\n",
       "      <td>2023</td>\n",
       "    </tr>\n",
       "    <tr>\n",
       "      <th>3</th>\n",
       "      <td>4</td>\n",
       "      <td>Oppenheimer</td>\n",
       "      <td>Biography, Drama, History</td>\n",
       "      <td>The story of American scientist J. Robert Oppe...</td>\n",
       "      <td>8.4</td>\n",
       "      <td>2023</td>\n",
       "    </tr>\n",
       "    <tr>\n",
       "      <th>4</th>\n",
       "      <td>5</td>\n",
       "      <td>Taylor Swift: The Eras Tour</td>\n",
       "      <td>Documentary, Music</td>\n",
       "      <td>Experience the Eras Tour concert, performed by...</td>\n",
       "      <td>8.2</td>\n",
       "      <td>2023</td>\n",
       "    </tr>\n",
       "  </tbody>\n",
       "</table>\n",
       "</div>"
      ],
      "text/plain": [
       "   Rank                             Film Adı                           Tür                                           Açıklama  vote_average   Yıl\n",
       "0     1  Spider-Man: Across the Spider-Verse  Animation, Action, Adventure  Miles Morales catapults across the multiverse,...           8.6  2023\n",
       "1     2                          Poor Things        Comedy, Drama, Romance  The incredible tale about the fantastical evol...           8.5  2023\n",
       "2     3                          Gojira -1.0      Action, Adventure, Drama  Post war Japan is at its lowest point when a n...           8.4  2023\n",
       "3     4                          Oppenheimer     Biography, Drama, History  The story of American scientist J. Robert Oppe...           8.4  2023\n",
       "4     5          Taylor Swift: The Eras Tour            Documentary, Music  Experience the Eras Tour concert, performed by...           8.2  2023"
      ]
     },
     "execution_count": 16,
     "metadata": {},
     "output_type": "execute_result"
    }
   ],
   "source": [
    "filmler_2023.head()"
   ]
  },
  {
   "cell_type": "code",
   "execution_count": 17,
   "id": "f704def3",
   "metadata": {},
   "outputs": [],
   "source": [
    "filmler_2023 =filmler_2023.rename(columns={'Film Adı': 'title', 'Açıklama': 'overview'})\n"
   ]
  },
  {
   "cell_type": "code",
   "execution_count": 18,
   "id": "4abd2a1b",
   "metadata": {},
   "outputs": [
    {
     "data": {
      "text/html": [
       "<div>\n",
       "<style scoped>\n",
       "    .dataframe tbody tr th:only-of-type {\n",
       "        vertical-align: middle;\n",
       "    }\n",
       "\n",
       "    .dataframe tbody tr th {\n",
       "        vertical-align: top;\n",
       "    }\n",
       "\n",
       "    .dataframe thead th {\n",
       "        text-align: right;\n",
       "    }\n",
       "</style>\n",
       "<table border=\"1\" class=\"dataframe\">\n",
       "  <thead>\n",
       "    <tr style=\"text-align: right;\">\n",
       "      <th></th>\n",
       "      <th>Rank</th>\n",
       "      <th>title</th>\n",
       "      <th>Tür</th>\n",
       "      <th>overview</th>\n",
       "      <th>vote_average</th>\n",
       "      <th>Yıl</th>\n",
       "    </tr>\n",
       "  </thead>\n",
       "  <tbody>\n",
       "    <tr>\n",
       "      <th>0</th>\n",
       "      <td>1</td>\n",
       "      <td>Spider-Man: Across the Spider-Verse</td>\n",
       "      <td>Animation, Action, Adventure</td>\n",
       "      <td>Miles Morales catapults across the multiverse,...</td>\n",
       "      <td>8.6</td>\n",
       "      <td>2023</td>\n",
       "    </tr>\n",
       "    <tr>\n",
       "      <th>1</th>\n",
       "      <td>2</td>\n",
       "      <td>Poor Things</td>\n",
       "      <td>Comedy, Drama, Romance</td>\n",
       "      <td>The incredible tale about the fantastical evol...</td>\n",
       "      <td>8.5</td>\n",
       "      <td>2023</td>\n",
       "    </tr>\n",
       "    <tr>\n",
       "      <th>2</th>\n",
       "      <td>3</td>\n",
       "      <td>Gojira -1.0</td>\n",
       "      <td>Action, Adventure, Drama</td>\n",
       "      <td>Post war Japan is at its lowest point when a n...</td>\n",
       "      <td>8.4</td>\n",
       "      <td>2023</td>\n",
       "    </tr>\n",
       "    <tr>\n",
       "      <th>3</th>\n",
       "      <td>4</td>\n",
       "      <td>Oppenheimer</td>\n",
       "      <td>Biography, Drama, History</td>\n",
       "      <td>The story of American scientist J. Robert Oppe...</td>\n",
       "      <td>8.4</td>\n",
       "      <td>2023</td>\n",
       "    </tr>\n",
       "    <tr>\n",
       "      <th>4</th>\n",
       "      <td>5</td>\n",
       "      <td>Taylor Swift: The Eras Tour</td>\n",
       "      <td>Documentary, Music</td>\n",
       "      <td>Experience the Eras Tour concert, performed by...</td>\n",
       "      <td>8.2</td>\n",
       "      <td>2023</td>\n",
       "    </tr>\n",
       "  </tbody>\n",
       "</table>\n",
       "</div>"
      ],
      "text/plain": [
       "   Rank                                title                           Tür                                           overview  vote_average   Yıl\n",
       "0     1  Spider-Man: Across the Spider-Verse  Animation, Action, Adventure  Miles Morales catapults across the multiverse,...           8.6  2023\n",
       "1     2                          Poor Things        Comedy, Drama, Romance  The incredible tale about the fantastical evol...           8.5  2023\n",
       "2     3                          Gojira -1.0      Action, Adventure, Drama  Post war Japan is at its lowest point when a n...           8.4  2023\n",
       "3     4                          Oppenheimer     Biography, Drama, History  The story of American scientist J. Robert Oppe...           8.4  2023\n",
       "4     5          Taylor Swift: The Eras Tour            Documentary, Music  Experience the Eras Tour concert, performed by...           8.2  2023"
      ]
     },
     "execution_count": 18,
     "metadata": {},
     "output_type": "execute_result"
    }
   ],
   "source": [
    "filmler_2023.head()"
   ]
  },
  {
   "cell_type": "code",
   "execution_count": 19,
   "id": "9e27d10e",
   "metadata": {},
   "outputs": [],
   "source": [
    "filmler_2023.drop(['Rank', 'Tür'], axis=1, inplace=True)\n",
    "eski_filmler.drop(['original_language', 'vote_count', 'language'], axis=1, inplace=True)"
   ]
  },
  {
   "cell_type": "code",
   "execution_count": 20,
   "id": "e7ef7bfc",
   "metadata": {},
   "outputs": [],
   "source": [
    "birlesik_veri_seti = pd.merge(eski_filmler, filmler_2023, on='title', how='outer')"
   ]
  },
  {
   "cell_type": "code",
   "execution_count": 21,
   "id": "aeb97657",
   "metadata": {},
   "outputs": [],
   "source": [
    "result_df = pd.concat([eski_filmler, filmler_2023], ignore_index=True)"
   ]
  },
  {
   "cell_type": "code",
   "execution_count": 22,
   "id": "3c59d93f",
   "metadata": {},
   "outputs": [
    {
     "data": {
      "text/html": [
       "<div>\n",
       "<style scoped>\n",
       "    .dataframe tbody tr th:only-of-type {\n",
       "        vertical-align: middle;\n",
       "    }\n",
       "\n",
       "    .dataframe tbody tr th {\n",
       "        vertical-align: top;\n",
       "    }\n",
       "\n",
       "    .dataframe thead th {\n",
       "        text-align: right;\n",
       "    }\n",
       "</style>\n",
       "<table border=\"1\" class=\"dataframe\">\n",
       "  <thead>\n",
       "    <tr style=\"text-align: right;\">\n",
       "      <th></th>\n",
       "      <th>title</th>\n",
       "      <th>overview</th>\n",
       "      <th>vote_average</th>\n",
       "      <th>Yıl</th>\n",
       "    </tr>\n",
       "  </thead>\n",
       "  <tbody>\n",
       "    <tr>\n",
       "      <th>0</th>\n",
       "      <td>Inception</td>\n",
       "      <td>Cobb, a skilled thief who commits corporate es...</td>\n",
       "      <td>8.3</td>\n",
       "      <td>2023 öncesi</td>\n",
       "    </tr>\n",
       "    <tr>\n",
       "      <th>1</th>\n",
       "      <td>Deadpool</td>\n",
       "      <td>Deadpool tells the origin story of former Spec...</td>\n",
       "      <td>7.6</td>\n",
       "      <td>2023 öncesi</td>\n",
       "    </tr>\n",
       "    <tr>\n",
       "      <th>2</th>\n",
       "      <td>The Avengers</td>\n",
       "      <td>When an unexpected enemy emerges and threatens...</td>\n",
       "      <td>7.7</td>\n",
       "      <td>2023 öncesi</td>\n",
       "    </tr>\n",
       "    <tr>\n",
       "      <th>3</th>\n",
       "      <td>Interstellar</td>\n",
       "      <td>Interstellar chronicles the adventures of a gr...</td>\n",
       "      <td>8.3</td>\n",
       "      <td>2023 öncesi</td>\n",
       "    </tr>\n",
       "    <tr>\n",
       "      <th>4</th>\n",
       "      <td>The Dark Knight</td>\n",
       "      <td>Batman raises the stakes in his war on crime. ...</td>\n",
       "      <td>8.4</td>\n",
       "      <td>2023 öncesi</td>\n",
       "    </tr>\n",
       "  </tbody>\n",
       "</table>\n",
       "</div>"
      ],
      "text/plain": [
       "             title                                           overview  vote_average          Yıl\n",
       "0        Inception  Cobb, a skilled thief who commits corporate es...           8.3  2023 öncesi\n",
       "1         Deadpool  Deadpool tells the origin story of former Spec...           7.6  2023 öncesi\n",
       "2     The Avengers  When an unexpected enemy emerges and threatens...           7.7  2023 öncesi\n",
       "3     Interstellar  Interstellar chronicles the adventures of a gr...           8.3  2023 öncesi\n",
       "4  The Dark Knight  Batman raises the stakes in his war on crime. ...           8.4  2023 öncesi"
      ]
     },
     "execution_count": 22,
     "metadata": {},
     "output_type": "execute_result"
    }
   ],
   "source": [
    "result_df.head()"
   ]
  },
  {
   "cell_type": "code",
   "execution_count": 23,
   "id": "ea3c94d0",
   "metadata": {},
   "outputs": [
    {
     "data": {
      "text/html": [
       "<div>\n",
       "<style scoped>\n",
       "    .dataframe tbody tr th:only-of-type {\n",
       "        vertical-align: middle;\n",
       "    }\n",
       "\n",
       "    .dataframe tbody tr th {\n",
       "        vertical-align: top;\n",
       "    }\n",
       "\n",
       "    .dataframe thead th {\n",
       "        text-align: right;\n",
       "    }\n",
       "</style>\n",
       "<table border=\"1\" class=\"dataframe\">\n",
       "  <thead>\n",
       "    <tr style=\"text-align: right;\">\n",
       "      <th></th>\n",
       "      <th>title</th>\n",
       "      <th>overview</th>\n",
       "      <th>vote_average</th>\n",
       "      <th>Yıl</th>\n",
       "    </tr>\n",
       "  </thead>\n",
       "  <tbody>\n",
       "    <tr>\n",
       "      <th>10095</th>\n",
       "      <td>Hypnotic</td>\n",
       "      <td>A detective investigates a mystery involving h...</td>\n",
       "      <td>5.5</td>\n",
       "      <td>2023</td>\n",
       "    </tr>\n",
       "    <tr>\n",
       "      <th>10096</th>\n",
       "      <td>Inside</td>\n",
       "      <td>Nemo, a high-end art thief, is trapped in a Ne...</td>\n",
       "      <td>5.5</td>\n",
       "      <td>2023</td>\n",
       "    </tr>\n",
       "    <tr>\n",
       "      <th>10097</th>\n",
       "      <td>Perfect Addiction</td>\n",
       "      <td>A successful boxing trainer discovers that her...</td>\n",
       "      <td>5.5</td>\n",
       "      <td>2023</td>\n",
       "    </tr>\n",
       "    <tr>\n",
       "      <th>10098</th>\n",
       "      <td>Meg 2: The Trench</td>\n",
       "      <td>A research team encounters multiple threats wh...</td>\n",
       "      <td>5.0</td>\n",
       "      <td>2023</td>\n",
       "    </tr>\n",
       "    <tr>\n",
       "      <th>10099</th>\n",
       "      <td>Clock</td>\n",
       "      <td>A woman enrolls in a clinical trial to try and...</td>\n",
       "      <td>5.0</td>\n",
       "      <td>2023</td>\n",
       "    </tr>\n",
       "  </tbody>\n",
       "</table>\n",
       "</div>"
      ],
      "text/plain": [
       "                   title                                           overview  vote_average   Yıl\n",
       "10095           Hypnotic  A detective investigates a mystery involving h...           5.5  2023\n",
       "10096             Inside  Nemo, a high-end art thief, is trapped in a Ne...           5.5  2023\n",
       "10097  Perfect Addiction  A successful boxing trainer discovers that her...           5.5  2023\n",
       "10098  Meg 2: The Trench  A research team encounters multiple threats wh...           5.0  2023\n",
       "10099              Clock  A woman enrolls in a clinical trial to try and...           5.0  2023"
      ]
     },
     "execution_count": 23,
     "metadata": {},
     "output_type": "execute_result"
    }
   ],
   "source": [
    "result_df.tail()"
   ]
  },
  {
   "cell_type": "code",
   "execution_count": 24,
   "id": "153dd5d6",
   "metadata": {},
   "outputs": [
    {
     "data": {
      "text/html": [
       "<div>\n",
       "<style scoped>\n",
       "    .dataframe tbody tr th:only-of-type {\n",
       "        vertical-align: middle;\n",
       "    }\n",
       "\n",
       "    .dataframe tbody tr th {\n",
       "        vertical-align: top;\n",
       "    }\n",
       "\n",
       "    .dataframe thead th {\n",
       "        text-align: right;\n",
       "    }\n",
       "</style>\n",
       "<table border=\"1\" class=\"dataframe\">\n",
       "  <thead>\n",
       "    <tr style=\"text-align: right;\">\n",
       "      <th></th>\n",
       "      <th>title</th>\n",
       "      <th>overview</th>\n",
       "      <th>vote_average</th>\n",
       "      <th>Yıl</th>\n",
       "    </tr>\n",
       "  </thead>\n",
       "  <tbody>\n",
       "    <tr>\n",
       "      <th>10000</th>\n",
       "      <td>Spider-Man: Across the Spider-Verse</td>\n",
       "      <td>Miles Morales catapults across the multiverse,...</td>\n",
       "      <td>8.6</td>\n",
       "      <td>2023</td>\n",
       "    </tr>\n",
       "    <tr>\n",
       "      <th>10001</th>\n",
       "      <td>Poor Things</td>\n",
       "      <td>The incredible tale about the fantastical evol...</td>\n",
       "      <td>8.5</td>\n",
       "      <td>2023</td>\n",
       "    </tr>\n",
       "    <tr>\n",
       "      <th>10002</th>\n",
       "      <td>Gojira -1.0</td>\n",
       "      <td>Post war Japan is at its lowest point when a n...</td>\n",
       "      <td>8.4</td>\n",
       "      <td>2023</td>\n",
       "    </tr>\n",
       "    <tr>\n",
       "      <th>10003</th>\n",
       "      <td>Oppenheimer</td>\n",
       "      <td>The story of American scientist J. Robert Oppe...</td>\n",
       "      <td>8.4</td>\n",
       "      <td>2023</td>\n",
       "    </tr>\n",
       "    <tr>\n",
       "      <th>10004</th>\n",
       "      <td>Taylor Swift: The Eras Tour</td>\n",
       "      <td>Experience the Eras Tour concert, performed by...</td>\n",
       "      <td>8.2</td>\n",
       "      <td>2023</td>\n",
       "    </tr>\n",
       "    <tr>\n",
       "      <th>...</th>\n",
       "      <td>...</td>\n",
       "      <td>...</td>\n",
       "      <td>...</td>\n",
       "      <td>...</td>\n",
       "    </tr>\n",
       "    <tr>\n",
       "      <th>10095</th>\n",
       "      <td>Hypnotic</td>\n",
       "      <td>A detective investigates a mystery involving h...</td>\n",
       "      <td>5.5</td>\n",
       "      <td>2023</td>\n",
       "    </tr>\n",
       "    <tr>\n",
       "      <th>10096</th>\n",
       "      <td>Inside</td>\n",
       "      <td>Nemo, a high-end art thief, is trapped in a Ne...</td>\n",
       "      <td>5.5</td>\n",
       "      <td>2023</td>\n",
       "    </tr>\n",
       "    <tr>\n",
       "      <th>10097</th>\n",
       "      <td>Perfect Addiction</td>\n",
       "      <td>A successful boxing trainer discovers that her...</td>\n",
       "      <td>5.5</td>\n",
       "      <td>2023</td>\n",
       "    </tr>\n",
       "    <tr>\n",
       "      <th>10098</th>\n",
       "      <td>Meg 2: The Trench</td>\n",
       "      <td>A research team encounters multiple threats wh...</td>\n",
       "      <td>5.0</td>\n",
       "      <td>2023</td>\n",
       "    </tr>\n",
       "    <tr>\n",
       "      <th>10099</th>\n",
       "      <td>Clock</td>\n",
       "      <td>A woman enrolls in a clinical trial to try and...</td>\n",
       "      <td>5.0</td>\n",
       "      <td>2023</td>\n",
       "    </tr>\n",
       "  </tbody>\n",
       "</table>\n",
       "<p>100 rows × 4 columns</p>\n",
       "</div>"
      ],
      "text/plain": [
       "                                     title                                           overview  vote_average   Yıl\n",
       "10000  Spider-Man: Across the Spider-Verse  Miles Morales catapults across the multiverse,...           8.6  2023\n",
       "10001                          Poor Things  The incredible tale about the fantastical evol...           8.5  2023\n",
       "10002                          Gojira -1.0  Post war Japan is at its lowest point when a n...           8.4  2023\n",
       "10003                          Oppenheimer  The story of American scientist J. Robert Oppe...           8.4  2023\n",
       "10004          Taylor Swift: The Eras Tour  Experience the Eras Tour concert, performed by...           8.2  2023\n",
       "...                                    ...                                                ...           ...   ...\n",
       "10095                             Hypnotic  A detective investigates a mystery involving h...           5.5  2023\n",
       "10096                               Inside  Nemo, a high-end art thief, is trapped in a Ne...           5.5  2023\n",
       "10097                    Perfect Addiction  A successful boxing trainer discovers that her...           5.5  2023\n",
       "10098                    Meg 2: The Trench  A research team encounters multiple threats wh...           5.0  2023\n",
       "10099                                Clock  A woman enrolls in a clinical trial to try and...           5.0  2023\n",
       "\n",
       "[100 rows x 4 columns]"
      ]
     },
     "execution_count": 24,
     "metadata": {},
     "output_type": "execute_result"
    }
   ],
   "source": [
    "result_df[result_df['Yıl'] == \"2023\"]"
   ]
  },
  {
   "cell_type": "code",
   "execution_count": 25,
   "id": "93077087",
   "metadata": {},
   "outputs": [
    {
     "data": {
      "text/plain": [
       "title            object\n",
       "overview         object\n",
       "vote_average    float64\n",
       "Yıl              object\n",
       "dtype: object"
      ]
     },
     "execution_count": 25,
     "metadata": {},
     "output_type": "execute_result"
    }
   ],
   "source": [
    "result_df.dtypes"
   ]
  },
  {
   "cell_type": "code",
   "execution_count": 26,
   "id": "ed8d9986",
   "metadata": {},
   "outputs": [
    {
     "data": {
      "text/plain": [
       "title           0\n",
       "overview        0\n",
       "vote_average    0\n",
       "Yıl             0\n",
       "dtype: int64"
      ]
     },
     "execution_count": 26,
     "metadata": {},
     "output_type": "execute_result"
    }
   ],
   "source": [
    "result_df.isnull().sum()\n"
   ]
  },
  {
   "cell_type": "markdown",
   "id": "c5c30fcb",
   "metadata": {},
   "source": [
    "# 1. TF-IDF Matrisinin Oluşturulması"
   ]
  },
  {
   "cell_type": "code",
   "execution_count": 27,
   "id": "8f9d087a",
   "metadata": {},
   "outputs": [],
   "source": [
    "tfidf = TfidfVectorizer(stop_words=\"english\")\n",
    "# Ölçüm değeri taşımayan kelimleri veri setinden çıkarır."
   ]
  },
  {
   "cell_type": "code",
   "execution_count": 28,
   "id": "f71ff6ce",
   "metadata": {},
   "outputs": [],
   "source": [
    "# \"title\" ve \"overview\" sütunlarını birleştirerek bir metin sütunu oluştur\n",
    "result_df['combined_text'] = result_df['title'] + ' ' + result_df['overview']\n",
    "\n",
    "# TF-IDF vektörleme işlemini gerçekleştir\n",
    "tfidf = TfidfVectorizer(stop_words='english')\n",
    "tfidf_matrix = tfidf.fit_transform(result_df['combined_text'])\n"
   ]
  },
  {
   "cell_type": "code",
   "execution_count": 29,
   "id": "ff72ed60",
   "metadata": {},
   "outputs": [],
   "source": [
    "# tfidf_matrix = tfidf.fit_transform(result_df['overview'])"
   ]
  },
  {
   "cell_type": "code",
   "execution_count": 30,
   "id": "6414717f",
   "metadata": {},
   "outputs": [
    {
     "data": {
      "text/plain": [
       "(10100, 30372)"
      ]
     },
     "execution_count": 30,
     "metadata": {},
     "output_type": "execute_result"
    }
   ],
   "source": [
    "tfidf_matrix.shape"
   ]
  },
  {
   "cell_type": "code",
   "execution_count": 31,
   "id": "1e75b107",
   "metadata": {},
   "outputs": [
    {
     "data": {
      "text/plain": [
       "array(['00', '000', '006', ..., 'как', 'смотри', '運轉手之戀'], dtype=object)"
      ]
     },
     "execution_count": 31,
     "metadata": {},
     "output_type": "execute_result"
    }
   ],
   "source": [
    "tfidf.get_feature_names_out()\n"
   ]
  },
  {
   "cell_type": "code",
   "execution_count": 32,
   "id": "06cf21ca",
   "metadata": {},
   "outputs": [
    {
     "data": {
      "text/plain": [
       "array([[0., 0., 0., ..., 0., 0., 0.],\n",
       "       [0., 0., 0., ..., 0., 0., 0.],\n",
       "       [0., 0., 0., ..., 0., 0., 0.],\n",
       "       ...,\n",
       "       [0., 0., 0., ..., 0., 0., 0.],\n",
       "       [0., 0., 0., ..., 0., 0., 0.],\n",
       "       [0., 0., 0., ..., 0., 0., 0.]])"
      ]
     },
     "execution_count": 32,
     "metadata": {},
     "output_type": "execute_result"
    }
   ],
   "source": [
    "tfidf_matrix.toarray()"
   ]
  },
  {
   "cell_type": "markdown",
   "id": "568e2518",
   "metadata": {},
   "source": [
    "# 2. Cosine Similarity Matrisinin Oluşturulması"
   ]
  },
  {
   "cell_type": "code",
   "execution_count": 33,
   "id": "360639ba",
   "metadata": {},
   "outputs": [],
   "source": [
    "cosine_sim = cosine_similarity(tfidf_matrix,\n",
    "                               tfidf_matrix)"
   ]
  },
  {
   "cell_type": "code",
   "execution_count": 34,
   "id": "24c2199d",
   "metadata": {},
   "outputs": [
    {
     "data": {
      "text/plain": [
       "(10100, 10100)"
      ]
     },
     "execution_count": 34,
     "metadata": {},
     "output_type": "execute_result"
    }
   ],
   "source": [
    "cosine_sim.shape"
   ]
  },
  {
   "cell_type": "markdown",
   "id": "7d24e84b",
   "metadata": {},
   "source": [
    "# 3. Benzerliklere Göre Önerilerin Yapılması"
   ]
  },
  {
   "cell_type": "code",
   "execution_count": 35,
   "id": "37b37c3c",
   "metadata": {},
   "outputs": [],
   "source": [
    "indices = pd.Series(result_df.index, index=result_df['title'])"
   ]
  },
  {
   "cell_type": "code",
   "execution_count": 36,
   "id": "bbfb55e2",
   "metadata": {},
   "outputs": [
    {
     "data": {
      "text/plain": [
       "title\n",
       "Beauty and the Beast    4\n",
       "Dracula                 4\n",
       "The Vanishing           3\n",
       "The Little Mermaid      3\n",
       "Halloween               3\n",
       "                       ..\n",
       "Timecrimes              1\n",
       "Lemonade Mouth          1\n",
       "Son of Saul             1\n",
       "Seeking Justice         1\n",
       "Clock                   1\n",
       "Name: count, Length: 9780, dtype: int64"
      ]
     },
     "execution_count": 36,
     "metadata": {},
     "output_type": "execute_result"
    }
   ],
   "source": [
    "indices.index.value_counts()"
   ]
  },
  {
   "cell_type": "code",
   "execution_count": 37,
   "id": "b99c4605",
   "metadata": {},
   "outputs": [],
   "source": [
    "indices = indices[~indices.index.duplicated(keep='last')]"
   ]
  },
  {
   "cell_type": "code",
   "execution_count": 38,
   "id": "ce100cff",
   "metadata": {},
   "outputs": [
    {
     "data": {
      "text/plain": [
       "title\n",
       "Inception               1\n",
       "Freeway                 1\n",
       "Recess: School's Out    1\n",
       "The Breed               1\n",
       "Rock the Kasbah         1\n",
       "                       ..\n",
       "The Dirty Dozen         1\n",
       "Burning                 1\n",
       "A Long Way Down         1\n",
       "The Dark Crystal        1\n",
       "Clock                   1\n",
       "Name: count, Length: 9780, dtype: int64"
      ]
     },
     "execution_count": 38,
     "metadata": {},
     "output_type": "execute_result"
    }
   ],
   "source": [
    "indices.index.value_counts()"
   ]
  },
  {
   "cell_type": "code",
   "execution_count": 39,
   "id": "5b8ae44b",
   "metadata": {},
   "outputs": [
    {
     "data": {
      "text/plain": [
       "3460"
      ]
     },
     "execution_count": 39,
     "metadata": {},
     "output_type": "execute_result"
    }
   ],
   "source": [
    "indices[\"The Dirty Dozen\"]"
   ]
  },
  {
   "cell_type": "code",
   "execution_count": 40,
   "id": "f34ad4f6",
   "metadata": {},
   "outputs": [],
   "source": [
    "movie_index = indices[\"Oppenheimer\"]"
   ]
  },
  {
   "cell_type": "code",
   "execution_count": 41,
   "id": "cb35e8fc",
   "metadata": {},
   "outputs": [
    {
     "data": {
      "text/plain": [
       "array([0.        , 0.00997887, 0.        , ..., 0.        , 0.        ,\n",
       "       0.        ])"
      ]
     },
     "execution_count": 41,
     "metadata": {},
     "output_type": "execute_result"
    }
   ],
   "source": [
    "cosine_sim[movie_index]"
   ]
  },
  {
   "cell_type": "code",
   "execution_count": 42,
   "id": "9983b47f",
   "metadata": {},
   "outputs": [],
   "source": [
    "similarity_scores = pd.DataFrame(cosine_sim[movie_index],\n",
    "                                 columns=[\"score\"])"
   ]
  },
  {
   "cell_type": "code",
   "execution_count": 43,
   "id": "fff2262c",
   "metadata": {},
   "outputs": [],
   "source": [
    "movie_indices = similarity_scores.sort_values(\"score\", ascending=False)[1:11].index"
   ]
  },
  {
   "cell_type": "code",
   "execution_count": 44,
   "id": "1ee668e4",
   "metadata": {},
   "outputs": [
    {
     "data": {
      "text/plain": [
       "10002              Gojira -1.0\n",
       "5035     The War of the Worlds\n",
       "5875        They Came Together\n",
       "6516      How the West Was Won\n",
       "697            The Hurt Locker\n",
       "3933       Blast from the Past\n",
       "6620          Inherit the Wind\n",
       "5323                      Igor\n",
       "5840                Blown Away\n",
       "4529                     Proof\n",
       "Name: title, dtype: object"
      ]
     },
     "execution_count": 44,
     "metadata": {},
     "output_type": "execute_result"
    }
   ],
   "source": [
    "result_df['title'].iloc[movie_indices] "
   ]
  },
  {
   "cell_type": "code",
   "execution_count": 45,
   "id": "d702d0c2",
   "metadata": {},
   "outputs": [
    {
     "name": "stdout",
     "output_type": "stream",
     "text": [
      "2023 yılında size önerilen film: Gojira -1.0\n"
     ]
    }
   ],
   "source": [
    "# movie_indices içindeki indeks değerleri 9999 ve üzerinde olan filmleri seç\n",
    "selected_indices = result_df['title'].iloc[movie_indices].index\n",
    "\n",
    "# 9999'dan büyük olan bir indeks varsa, o indeksi yazdır\n",
    "selected_index = next((index for index in selected_indices if index > 9999), None)\n",
    "\n",
    "if selected_index is not None:\n",
    "    # Eğer seçilen filmler varsa, sadece 9999'dan büyük olan indeksi yazdır\n",
    "    print(f\"2023 yılında size önerilen film: {result_df['title'].iloc[selected_index]}\")\n",
    "else:\n",
    "    # Eğer seçilen filmler yoksa, uygun film bulunamadığına dair bir mesajı ekrana basar\n",
    "    print(\"2023 yılında size uygun film bulunamadı.\")\n"
   ]
  },
  {
   "cell_type": "markdown",
   "id": "f636a77b",
   "metadata": {},
   "source": [
    "# 4. İşlemlerin Fonksiyonlaştırılması"
   ]
  },
  {
   "cell_type": "code",
   "execution_count": 46,
   "id": "206d94b2",
   "metadata": {},
   "outputs": [],
   "source": [
    "def calculate_cosine_sim(dataframe):\n",
    "    tfidf = TfidfVectorizer(stop_words='english')\n",
    "    # \"title\" ve \"overview\" sütunlarını birleştirerek bir metin sütunu oluştur\n",
    "    result_df['combined_text'] = result_df['title'] + ' ' + result_df['overview']\n",
    "\n",
    "    # TF-IDF vektörleme işlemini gerçekleştir\n",
    "    tfidf = TfidfVectorizer(stop_words='english')\n",
    "    tfidf_matrix = tfidf.fit_transform(result_df['combined_text'])\n",
    "\n",
    "    cosine_sim = cosine_similarity(tfidf_matrix, tfidf_matrix)\n",
    "    return cosine_sim"
   ]
  },
  {
   "cell_type": "code",
   "execution_count": 47,
   "id": "589ea0b5",
   "metadata": {},
   "outputs": [],
   "source": [
    "\n",
    "def content_based_recommender_2023(title, cosine_sim, dataframe):\n",
    "    # index'leri oluşturma\n",
    "    indices = pd.Series(dataframe.index, index=dataframe['title'])\n",
    "    indices = indices[~indices.index.duplicated(keep='last')]\n",
    "    \n",
    "    # title'ın index'ini yakalama\n",
    "    movie_index = indices[title]\n",
    "    \n",
    "    # title'a göre benzerlik skorlarını hesaplama\n",
    "    similarity_scores = pd.DataFrame(cosine_sim[movie_index], columns=[\"score\"])\n",
    "    \n",
    "    # kendisi hariç ilk 10 filmi getirme\n",
    "    movie_indices = similarity_scores.sort_values(\"score\", ascending=False)[1:11].index\n",
    "    \n",
    "    # movie_indices içindeki indeks değerleri 9999 ve üzerinde olan filmleri seç\n",
    "    selected_indices = dataframe['title'].iloc[movie_indices].index[1:11]\n",
    "\n",
    "    # 9999'dan büyük olan bir indeks varsa, o indeksi yazdır\n",
    "    selected_index = next((index for index in selected_indices if index > 9999), None)\n",
    "\n",
    "    if selected_index is not None:\n",
    "        # Eğer seçilen filmler varsa, sadece 9999'dan büyük olan indeksi yazdır\n",
    "        recommended_movie_title = dataframe['title'].iloc[selected_index]\n",
    "        print(f\"2023 yılında size önerilen film: {recommended_movie_title}\")\n",
    "        return recommended_movie_title\n",
    "    else:\n",
    "        # Eğer seçilen filmler yoksa, uygun film bulunamadığına dair bir mesajı ekrana basar\n",
    "        print(\"2023 yılında size uygun film bulunamadı.\")\n",
    "        return None\n",
    "\n"
   ]
  },
  {
   "cell_type": "code",
   "execution_count": 48,
   "id": "478aa31c",
   "metadata": {},
   "outputs": [],
   "source": [
    "def content_based_recommender_2023(title, cosine_sim, dataframe):\n",
    "    # index'leri oluşturma\n",
    "    indices = pd.Series(dataframe.index, index=dataframe['title'])\n",
    "    indices = indices[~indices.index.duplicated(keep='last')]\n",
    "    \n",
    "    # title'ın index'ini yakalama\n",
    "    movie_index = indices[title]\n",
    "    \n",
    "    # title'a göre benzerlik skorlarını hesaplama\n",
    "    similarity_scores = pd.DataFrame(cosine_sim[movie_index], columns=[\"score\"])\n",
    "    \n",
    "    # kendisi hariç ilk 10 filmi getirme\n",
    "    movie_indices = similarity_scores.sort_values(\"score\", ascending=False)[1:11].index\n",
    "    \n",
    "    # movie_indices içindeki indeks değerleri 9999 ve üzerinde olan filmleri seç\n",
    "    selected_indices = dataframe['title'].iloc[movie_indices].index[1:11]\n",
    "\n",
    "    # 9999'dan büyük olan indeksleri bulma\n",
    "    high_indices = [index for index in selected_indices if index > 9999]\n",
    "\n",
    "    # Eğer 9999'dan büyük olan indeks varsa, filmleri yazdır\n",
    "    if high_indices:\n",
    "        print(\"2023 yılında size önerilen filmler:\")\n",
    "        for index in high_indices:\n",
    "            recommended_movie_title = dataframe['title'].iloc[index]\n",
    "            print(recommended_movie_title)\n",
    "    else:\n",
    "        # Eğer 9999'dan büyük olan indeks yoksa, uygun film bulunamadığına dair bir mesajı ekrana basar\n",
    "        print(\"2023 yılında size uygun film bulunamadı.\")\n"
   ]
  },
  {
   "cell_type": "code",
   "execution_count": 49,
   "id": "c7ff5c8c",
   "metadata": {},
   "outputs": [
    {
     "name": "stdout",
     "output_type": "stream",
     "text": [
      "2023 yılında size önerilen filmler:\n",
      "Spider-Man: Across the Spider-Verse\n"
     ]
    }
   ],
   "source": [
    "# \"Spider-Man\" filmi için öneri al\n",
    "recommended_movie = content_based_recommender_2023(\"Spider-Man\", cosine_sim, result_df)\n",
    "\n"
   ]
  },
  {
   "cell_type": "code",
   "execution_count": 50,
   "id": "e800dd5e",
   "metadata": {},
   "outputs": [
    {
     "name": "stdout",
     "output_type": "stream",
     "text": [
      "2023 yılında size uygun film bulunamadı.\n"
     ]
    }
   ],
   "source": [
    "recommended_movie = content_based_recommender_2023(\"The Dark Knight\", cosine_sim, result_df)"
   ]
  },
  {
   "cell_type": "code",
   "execution_count": 51,
   "id": "aa14f45a",
   "metadata": {},
   "outputs": [
    {
     "name": "stdout",
     "output_type": "stream",
     "text": [
      "2023 yılında size önerilen filmler:\n",
      "Gojira -1.0\n",
      "Oppenheimer\n"
     ]
    }
   ],
   "source": [
    "recommended_movie = content_based_recommender_2023(\"The War of the Worlds\", cosine_sim, result_df)"
   ]
  },
  {
   "cell_type": "code",
   "execution_count": 52,
   "id": "969ac532",
   "metadata": {},
   "outputs": [],
   "source": [
    "\n",
    "def get_movie_info(title, dataframe):\n",
    "    # movie_title'a göre filmi bulma\n",
    "    movie_info = dataframe[dataframe['title'] == title]\n",
    "\n",
    "    if not movie_info.empty:\n",
    "        # Eğer film bulunduysa, bilgileri ekrana yazdır\n",
    "        print(f\"Film Adı: {movie_info['title'].values[0]}\")\n",
    "        print(f\"Özet: {movie_info['overview'].values[0]}\")\n",
    "        print(f\"Ortalama Puan: {movie_info['vote_average'].values[0]}\")\n",
    "    else:\n",
    "        # Eğer film bulunamadıysa, uygun bir mesajı ekrana yazdır\n",
    "        print(f\"{title} filmi bulunamadı.\")\n",
    "\n"
   ]
  },
  {
   "cell_type": "code",
   "execution_count": 53,
   "id": "a6b78bd7",
   "metadata": {},
   "outputs": [
    {
     "name": "stdout",
     "output_type": "stream",
     "text": [
      "Film Adı: Oppenheimer\n",
      "Özet: The story of American scientist J. Robert Oppenheimer and his role in the development of the atomic bomb.\n",
      "Ortalama Puan: 8.4\n"
     ]
    }
   ],
   "source": [
    "# Örnek kullanım\n",
    "get_movie_info(\"Oppenheimer\", result_df)\n"
   ]
  },
  {
   "cell_type": "code",
   "execution_count": null,
   "id": "927f41d3",
   "metadata": {},
   "outputs": [],
   "source": []
  },
  {
   "cell_type": "code",
   "execution_count": null,
   "id": "bae47496",
   "metadata": {},
   "outputs": [],
   "source": []
  },
  {
   "cell_type": "code",
   "execution_count": null,
   "id": "6e0aa972",
   "metadata": {},
   "outputs": [],
   "source": []
  },
  {
   "cell_type": "code",
   "execution_count": null,
   "id": "b57a26df",
   "metadata": {},
   "outputs": [],
   "source": []
  },
  {
   "cell_type": "code",
   "execution_count": null,
   "id": "486c98f9",
   "metadata": {},
   "outputs": [],
   "source": []
  },
  {
   "cell_type": "code",
   "execution_count": null,
   "id": "602df3ab",
   "metadata": {},
   "outputs": [],
   "source": []
  },
  {
   "cell_type": "code",
   "execution_count": null,
   "id": "678c6fc2",
   "metadata": {},
   "outputs": [],
   "source": []
  },
  {
   "cell_type": "code",
   "execution_count": null,
   "id": "02e81852",
   "metadata": {},
   "outputs": [],
   "source": []
  },
  {
   "cell_type": "code",
   "execution_count": null,
   "id": "1221affc",
   "metadata": {},
   "outputs": [],
   "source": []
  },
  {
   "cell_type": "code",
   "execution_count": null,
   "id": "2376412d",
   "metadata": {},
   "outputs": [],
   "source": []
  },
  {
   "cell_type": "code",
   "execution_count": null,
   "id": "833b6650",
   "metadata": {},
   "outputs": [],
   "source": []
  },
  {
   "cell_type": "code",
   "execution_count": null,
   "id": "fdc29364",
   "metadata": {},
   "outputs": [],
   "source": []
  },
  {
   "cell_type": "code",
   "execution_count": null,
   "id": "2f331592",
   "metadata": {},
   "outputs": [],
   "source": []
  },
  {
   "cell_type": "code",
   "execution_count": null,
   "id": "22d8092b",
   "metadata": {},
   "outputs": [],
   "source": []
  },
  {
   "cell_type": "code",
   "execution_count": null,
   "id": "6c730974",
   "metadata": {},
   "outputs": [],
   "source": []
  },
  {
   "cell_type": "code",
   "execution_count": null,
   "id": "a5b48685",
   "metadata": {},
   "outputs": [],
   "source": []
  },
  {
   "cell_type": "code",
   "execution_count": null,
   "id": "7f0e7b04",
   "metadata": {},
   "outputs": [],
   "source": []
  },
  {
   "cell_type": "code",
   "execution_count": null,
   "id": "60b26fef",
   "metadata": {},
   "outputs": [],
   "source": []
  },
  {
   "cell_type": "code",
   "execution_count": null,
   "id": "49014940",
   "metadata": {},
   "outputs": [],
   "source": []
  },
  {
   "cell_type": "code",
   "execution_count": null,
   "id": "3da57d08",
   "metadata": {},
   "outputs": [],
   "source": []
  },
  {
   "cell_type": "code",
   "execution_count": null,
   "id": "f71e4f51",
   "metadata": {},
   "outputs": [],
   "source": []
  },
  {
   "cell_type": "code",
   "execution_count": null,
   "id": "91f25c12",
   "metadata": {},
   "outputs": [],
   "source": []
  },
  {
   "cell_type": "code",
   "execution_count": null,
   "id": "a0d96c9c",
   "metadata": {},
   "outputs": [],
   "source": []
  },
  {
   "cell_type": "code",
   "execution_count": null,
   "id": "b0c3989e",
   "metadata": {},
   "outputs": [],
   "source": []
  },
  {
   "cell_type": "code",
   "execution_count": null,
   "id": "d358d1ff",
   "metadata": {},
   "outputs": [],
   "source": []
  },
  {
   "cell_type": "code",
   "execution_count": null,
   "id": "7fe643fb",
   "metadata": {},
   "outputs": [],
   "source": []
  },
  {
   "cell_type": "code",
   "execution_count": null,
   "id": "a770d6bb",
   "metadata": {},
   "outputs": [],
   "source": []
  },
  {
   "cell_type": "code",
   "execution_count": null,
   "id": "2d803f1a",
   "metadata": {},
   "outputs": [],
   "source": []
  },
  {
   "cell_type": "code",
   "execution_count": null,
   "id": "9b5ae2f9",
   "metadata": {},
   "outputs": [],
   "source": []
  },
  {
   "cell_type": "code",
   "execution_count": null,
   "id": "36a196b2",
   "metadata": {},
   "outputs": [],
   "source": []
  },
  {
   "cell_type": "code",
   "execution_count": null,
   "id": "fa9b18e7",
   "metadata": {},
   "outputs": [],
   "source": []
  },
  {
   "cell_type": "code",
   "execution_count": null,
   "id": "365727b3",
   "metadata": {},
   "outputs": [],
   "source": []
  },
  {
   "cell_type": "code",
   "execution_count": null,
   "id": "95e9c279",
   "metadata": {},
   "outputs": [],
   "source": []
  },
  {
   "cell_type": "code",
   "execution_count": null,
   "id": "26b52acc",
   "metadata": {},
   "outputs": [],
   "source": []
  },
  {
   "cell_type": "code",
   "execution_count": null,
   "id": "55e74559",
   "metadata": {},
   "outputs": [],
   "source": []
  },
  {
   "cell_type": "code",
   "execution_count": null,
   "id": "e8f8f281",
   "metadata": {},
   "outputs": [],
   "source": []
  },
  {
   "cell_type": "code",
   "execution_count": null,
   "id": "86128cbd",
   "metadata": {},
   "outputs": [],
   "source": []
  },
  {
   "cell_type": "code",
   "execution_count": null,
   "id": "83c6a827",
   "metadata": {},
   "outputs": [],
   "source": []
  },
  {
   "cell_type": "code",
   "execution_count": null,
   "id": "772d4cee",
   "metadata": {},
   "outputs": [],
   "source": []
  },
  {
   "cell_type": "code",
   "execution_count": null,
   "id": "ad6b9fff",
   "metadata": {},
   "outputs": [],
   "source": []
  },
  {
   "cell_type": "code",
   "execution_count": null,
   "id": "d391961b",
   "metadata": {},
   "outputs": [],
   "source": []
  },
  {
   "cell_type": "code",
   "execution_count": null,
   "id": "08cb9096",
   "metadata": {},
   "outputs": [],
   "source": []
  },
  {
   "cell_type": "code",
   "execution_count": null,
   "id": "88e79e7d",
   "metadata": {},
   "outputs": [],
   "source": []
  },
  {
   "cell_type": "code",
   "execution_count": null,
   "id": "b31e9c1a",
   "metadata": {},
   "outputs": [],
   "source": []
  },
  {
   "cell_type": "code",
   "execution_count": null,
   "id": "fb3eb975",
   "metadata": {},
   "outputs": [],
   "source": []
  },
  {
   "cell_type": "code",
   "execution_count": null,
   "id": "f39979eb",
   "metadata": {},
   "outputs": [],
   "source": []
  },
  {
   "cell_type": "code",
   "execution_count": null,
   "id": "4223f7a4",
   "metadata": {},
   "outputs": [],
   "source": []
  },
  {
   "cell_type": "code",
   "execution_count": null,
   "id": "356962e6",
   "metadata": {},
   "outputs": [],
   "source": []
  },
  {
   "cell_type": "code",
   "execution_count": null,
   "id": "2baaab4f",
   "metadata": {},
   "outputs": [],
   "source": []
  },
  {
   "cell_type": "code",
   "execution_count": null,
   "id": "dfbc0aad",
   "metadata": {},
   "outputs": [],
   "source": []
  },
  {
   "cell_type": "code",
   "execution_count": null,
   "id": "12da4ec2",
   "metadata": {},
   "outputs": [],
   "source": []
  },
  {
   "cell_type": "code",
   "execution_count": null,
   "id": "7e77c6c4",
   "metadata": {},
   "outputs": [],
   "source": []
  },
  {
   "cell_type": "code",
   "execution_count": null,
   "id": "d49c5937",
   "metadata": {},
   "outputs": [],
   "source": []
  },
  {
   "cell_type": "code",
   "execution_count": null,
   "id": "58ea3e3c",
   "metadata": {},
   "outputs": [],
   "source": []
  },
  {
   "cell_type": "code",
   "execution_count": null,
   "id": "26a2a515",
   "metadata": {},
   "outputs": [],
   "source": []
  },
  {
   "cell_type": "code",
   "execution_count": null,
   "id": "8451a3ef",
   "metadata": {},
   "outputs": [],
   "source": []
  },
  {
   "cell_type": "code",
   "execution_count": null,
   "id": "2adbf92f",
   "metadata": {},
   "outputs": [],
   "source": []
  },
  {
   "cell_type": "code",
   "execution_count": null,
   "id": "61d238ee",
   "metadata": {},
   "outputs": [],
   "source": []
  },
  {
   "cell_type": "code",
   "execution_count": null,
   "id": "ea0d277d",
   "metadata": {},
   "outputs": [],
   "source": []
  },
  {
   "cell_type": "code",
   "execution_count": null,
   "id": "2f071947",
   "metadata": {},
   "outputs": [],
   "source": []
  },
  {
   "cell_type": "code",
   "execution_count": null,
   "id": "ec5ad7d4",
   "metadata": {},
   "outputs": [],
   "source": []
  },
  {
   "cell_type": "code",
   "execution_count": null,
   "id": "7b6de5be",
   "metadata": {},
   "outputs": [],
   "source": []
  },
  {
   "cell_type": "code",
   "execution_count": null,
   "id": "b42f7ac1",
   "metadata": {},
   "outputs": [],
   "source": []
  },
  {
   "cell_type": "code",
   "execution_count": null,
   "id": "e2a4e116",
   "metadata": {},
   "outputs": [],
   "source": []
  },
  {
   "cell_type": "code",
   "execution_count": null,
   "id": "dd211e3d",
   "metadata": {},
   "outputs": [],
   "source": []
  },
  {
   "cell_type": "code",
   "execution_count": null,
   "id": "bf5b56f5",
   "metadata": {},
   "outputs": [],
   "source": []
  },
  {
   "cell_type": "code",
   "execution_count": null,
   "id": "3212fa54",
   "metadata": {},
   "outputs": [],
   "source": []
  },
  {
   "cell_type": "code",
   "execution_count": null,
   "id": "bdd53200",
   "metadata": {},
   "outputs": [],
   "source": []
  }
 ],
 "metadata": {
  "kernelspec": {
   "display_name": "Python 3 (ipykernel)",
   "language": "python",
   "name": "python3"
  },
  "language_info": {
   "codemirror_mode": {
    "name": "ipython",
    "version": 3
   },
   "file_extension": ".py",
   "mimetype": "text/x-python",
   "name": "python",
   "nbconvert_exporter": "python",
   "pygments_lexer": "ipython3",
   "version": "3.11.5"
  }
 },
 "nbformat": 4,
 "nbformat_minor": 5
}
